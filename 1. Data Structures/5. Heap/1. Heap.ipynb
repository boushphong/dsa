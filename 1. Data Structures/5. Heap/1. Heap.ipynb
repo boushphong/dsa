{
 "cells": [
  {
   "cell_type": "code",
   "execution_count": 1,
   "metadata": {},
   "outputs": [],
   "source": [
    "CAPACITY = 10"
   ]
  },
  {
   "cell_type": "code",
   "execution_count": 6,
   "metadata": {},
   "outputs": [],
   "source": [
    "# maximum heap (root node will be the largest item)\n",
    "class Heap:\n",
    "    \n",
    "    def __init__(self):\n",
    "        # This is the actual number of items in the data structure\n",
    "        self.heap_size = 0\n",
    "        # The underlying list data structure\n",
    "        self.heap = [0] * CAPACITY\n",
    "\n",
    "    def insert(self, item):\n",
    "\n",
    "        # when the heap is full\n",
    "        if self.heap_size == CAPACITY:\n",
    "            return None\n",
    "        \n",
    "        self.heap[self.heap_size] = item\n",
    "        self.heap_size += 1\n",
    "\n",
    "        # check the heap properties\n",
    "        self.fix_up(self.heap_size - 1)\n",
    "\n",
    "    # starting with the actual node we have inserted up to the root node\n",
    "    # we have to compare the values whether to make swap operations\n",
    "    # LogN it has O(LogN) running time complexity\n",
    "    def fix_up(self, index):\n",
    "\n",
    "        parent_index =  (index - 1)//2\n",
    "\n",
    "        # we consider all the items above till we hit the root node\n",
    "        # if heap property if violated then we swap the parent-child\n",
    "\n",
    "        if index > 0 and self.heap[index] > self.heap[parent_index]:\n",
    "            self.heap[index], self.heap[parent_index] = self.heap[parent_index], self.heap[index]\n",
    "            self.fix_up(parent_index)\n",
    "\n",
    "    # peek() return with the max item in O(1)\n",
    "    def get_max(self):\n",
    "        return self.heap[0]\n",
    "\n",
    "    # return the max and removes it as well\n",
    "    # remove the root node of the heap\n",
    "\n",
    "    def poll(self):\n",
    "        max_item = self.get_max()\n",
    "\n",
    "        # swap the root node with the last item and \"heapify\"\n",
    "        self.heap[0], self.heap[self.heap_size - 1] = self.heap[self.heap_size - 1], self.heap[0]\n",
    "        self.heap_size = self.heap_size - 1\n",
    "\n",
    "        # make sure the heap is \"heapify\"\n",
    "        self.fix_down(0)\n",
    "\n",
    "        return max_item\n",
    "\n",
    "    # starting with the root node downwards until the heap properties are no longer violated - O(logN)\n",
    "    def fix_down(self, index):\n",
    "        index_left = 2 * index + 1\n",
    "        index_right = 2 * index + 2\n",
    "\n",
    "        # in a max heap the parent is always greater than the children\n",
    "        largest_index = index\n",
    "\n",
    "        # looking for the largest (parent or left node)\n",
    "        if index_left < self.heap_size and self.heap[index_left] > self.heap[index]:\n",
    "            largest_index = index_left\n",
    "\n",
    "        # if the right child is greater than the left child: largest is the right child\n",
    "        if index_right < self.heap_size and self.heap[index_right] > self.heap[largest_index]:\n",
    "            largest_index = index_right\n",
    "\n",
    "        # if the parent is larger than the children: it is a valid heap so we terminate the recursive function calls\n",
    "        if index != largest_index:\n",
    "            self.heap[index], self.heap[largest_index] = self.heap[largest_index], self.heap[index]\n",
    "            self.fix_down(largest_index)\n",
    "\n",
    "    # we consider N items - it takes O(LogN) to get the max (poll function)\n",
    "    # N*O(LogN) = O(NLogN)\n",
    "    def heap_sort(self):\n",
    "        for _ in range(self.heap_size):\n",
    "            max_item = self.poll()\n",
    "            print(max_item)"
   ]
  },
  {
   "cell_type": "code",
   "execution_count": 7,
   "metadata": {},
   "outputs": [
    {
     "name": "stdout",
     "output_type": "stream",
     "text": [
      "[99, 8, 13, -2, 1, -5, 0, 0, 0, 0]\n"
     ]
    }
   ],
   "source": [
    "heap = Heap()\n",
    "heap.insert(13)\n",
    "heap.insert(-2)\n",
    "heap.insert(0)\n",
    "heap.insert(8)\n",
    "heap.insert(1)\n",
    "heap.insert(-5)\n",
    "heap.insert(99)\n",
    "\n",
    "print(heap.heap)"
   ]
  },
  {
   "cell_type": "code",
   "execution_count": 8,
   "metadata": {},
   "outputs": [
    {
     "name": "stdout",
     "output_type": "stream",
     "text": [
      "99\n",
      "13\n",
      "8\n",
      "1\n",
      "0\n",
      "-2\n",
      "-5\n"
     ]
    }
   ],
   "source": [
    "heap.heap_sort()"
   ]
  },
  {
   "cell_type": "code",
   "execution_count": null,
   "metadata": {},
   "outputs": [],
   "source": []
  }
 ],
 "metadata": {
  "kernelspec": {
   "display_name": "Python 3.8.10 64-bit",
   "language": "python",
   "name": "python3"
  },
  "language_info": {
   "codemirror_mode": {
    "name": "ipython",
    "version": 3
   },
   "file_extension": ".py",
   "mimetype": "text/x-python",
   "name": "python",
   "nbconvert_exporter": "python",
   "pygments_lexer": "ipython3",
   "version": "3.8.10"
  },
  "orig_nbformat": 4,
  "vscode": {
   "interpreter": {
    "hash": "e7370f93d1d0cde622a1f8e1c04877d8463912d04d973331ad4851f04de6915a"
   }
  }
 },
 "nbformat": 4,
 "nbformat_minor": 2
}
