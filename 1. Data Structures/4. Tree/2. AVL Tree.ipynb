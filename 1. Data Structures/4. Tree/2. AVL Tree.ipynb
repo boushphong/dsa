{
 "cells": [
  {
   "cell_type": "code",
   "execution_count": 30,
   "metadata": {
    "collapsed": false,
    "pycharm": {
     "name": "#%%\n"
    }
   },
   "outputs": [],
   "source": [
    "class Node:\n",
    "    def __init__(self, data, parent):\n",
    "        self.data = data\n",
    "        self.left_node = None\n",
    "        self.right_node = None\n",
    "        self.parent = parent\n",
    "        self.height = 0"
   ]
  },
  {
   "cell_type": "code",
   "execution_count": 48,
   "metadata": {
    "collapsed": false,
    "pycharm": {
     "name": "#%%\n"
    }
   },
   "outputs": [],
   "source": [
    "class AVLTree:\n",
    "    def __init__(self):\n",
    "        self.root = None\n",
    "\n",
    "    def insert(self, data):\n",
    "        if self.root is None:\n",
    "            self.root = Node(data, None)\n",
    "        else:\n",
    "            self.insert_node(data, self.root)\n",
    "\n",
    "    def insert_node(self, data, node):\n",
    "        # we have to go to the left subtree\n",
    "        if data < node.data:\n",
    "            if node.left_node:\n",
    "                self.insert_node(data, node.left_node) # Recursive call\n",
    "            else:\n",
    "                node.left_node = Node(data, node) # Base\n",
    "                # Recursive call to calculate node height during insertion\n",
    "                node.height = max(self.calc_height(node.left_node), self.calc_height(node.right_node)) + 1 \n",
    "        # we have to visit the right subtree\n",
    "        else:\n",
    "            if node.right_node:\n",
    "                self.insert_node(data, node.right_node) # Recursive call\n",
    "            else:\n",
    "                node.right_node = Node(data, node) # Base\n",
    "                # Recursive call to calculate node height during insertion\n",
    "                node.height = max(self.calc_height(node.left_node), self.calc_height(node.right_node)) + 1 \n",
    "\n",
    "        # after every insertion we have to check whether the AVL properties are violated\n",
    "        self.handle_violation(node)\n",
    "\n",
    "    def remove(self, data):\n",
    "        if self.root:\n",
    "            self.remove_node(data, self.root)\n",
    "\n",
    "    def remove_node(self, data, node):\n",
    "\n",
    "        if node is None:\n",
    "            return\n",
    "\n",
    "        if data < node.data:\n",
    "            self.remove_node(data, node.left_node)\n",
    "        elif data > node.data:\n",
    "            self.remove_node(data, node.right_node)\n",
    "        else:\n",
    "            if node.left_node is None and node.right_node is None:\n",
    "                print(\"Removing a leaf node...%d\" % node.data)\n",
    "\n",
    "                parent = node.parent\n",
    "\n",
    "                if parent is not None and parent.left_node == node:\n",
    "                    parent.left_node = None\n",
    "                if parent is not None and parent.right_node == node:\n",
    "                    parent.right_node = None\n",
    "\n",
    "                if parent is None:\n",
    "                    self.root = None\n",
    "\n",
    "                del node\n",
    "\n",
    "                self.handle_violation(parent)\n",
    "\n",
    "            \n",
    "            elif node.left_node is None and node.right_node is not None:\n",
    "                print(\"Removing a node with single right child...\")\n",
    "\n",
    "                parent = node.parent\n",
    "\n",
    "                if parent is not None:\n",
    "                    if parent.left_node == node:\n",
    "                        parent.left_node = node.right_node\n",
    "                    if parent.right_node == node:\n",
    "                        parent.right_node = node.right_node\n",
    "                else:\n",
    "                    self.root = node.right_node\n",
    "\n",
    "                node.right_node.parent = parent\n",
    "                del node\n",
    "\n",
    "                self.handle_violation(parent)\n",
    "\n",
    "            elif node.right_node is None and node.left_node is not None:\n",
    "                print(\"Removing a node with single left child...\")\n",
    "\n",
    "                parent = node.parent\n",
    "\n",
    "                if parent is not None:\n",
    "                    if parent.left_node == node:\n",
    "                        parent.left_node = node.left_node\n",
    "                    if parent.right_node == node:\n",
    "                        parent.right_node = node.left_node\n",
    "                else:\n",
    "                    self.root = node.left_node\n",
    "\n",
    "                node.left_node.parent = parent\n",
    "                del node\n",
    "\n",
    "                self.handle_violation(parent)\n",
    "\n",
    "            else:\n",
    "                print('Removing node with two children....')\n",
    "\n",
    "                predecessor = self.get_predecessor(node.left_node) \n",
    "\n",
    "                # Swap data then remove the leaf node\n",
    "                temp = predecessor.data\n",
    "                predecessor.data = node.data\n",
    "                node.data = temp\n",
    "\n",
    "                self.remove_node(data, predecessor)\n",
    "\n",
    "    def get_predecessor(self, node):\n",
    "        if node.right_node:\n",
    "            return self.get_predecessor(node.right_node)\n",
    "\n",
    "        return node\n",
    "\n",
    "    def handle_violation(self, node):\n",
    "        # check the nodes from the node we have inserted up to root node\n",
    "        while node is not None:\n",
    "            node.height = max(self.calc_height(node.left_node), \n",
    "                            self.calc_height(node.right_node)) + 1\n",
    "\n",
    "            self.violation_helper(node)\n",
    "            # whenever we settle a violation (rotations) it may happen that it\n",
    "            # violates the AVL properties in other part of the tree\n",
    "            node = node.parent\n",
    "\n",
    "    # checks whether the subtree is balanced with root node = node\n",
    "    def violation_helper(self, node):\n",
    "        \n",
    "        balance = self.calculate_balance(node)\n",
    "        # We know the tree is left heavy but it can be left-right heavy or left-left heavy\n",
    "        if balance > 1:\n",
    "            # left right heavy situation: left rotation on parent + right rotation on grandparent\n",
    "            if self.calculate_balance(node.left_node) < 0:\n",
    "                self.rotate_left(node.left_node)\n",
    "            \n",
    "            self.rotate_left(node.left_node)\n",
    "\n",
    "            # this is the right rotation on grandparent ( if left-left heavy, that's single right rotation)\n",
    "            self.rotate_right(node)\n",
    "\n",
    "        # we know the tree is right heavy but it can be left-right heavy or right-right heavy\n",
    "        if balance < -1:\n",
    "            # right - left heavy so we need a right rotation before left rotation\n",
    "            if self.calculate_balance(node.right_node) > 0:\n",
    "                self.rotate_right(node.right_node)\n",
    "\n",
    "            # left rotation\n",
    "            self.rotate_left(node)\n",
    "\n",
    "    # O(1) running time complexity\n",
    "    def rotate_right(self, node):\n",
    "        print(\"Rotating to the right on node \", node.data)\n",
    "\n",
    "        temp_left_node = node.left_node\n",
    "        t = temp_left_node.right_node\n",
    "\n",
    "        temp_left_node.right_node = node\n",
    "        node.left_node = t\n",
    "\n",
    "        if t is not None:\n",
    "            t.parent = node\n",
    "\n",
    "        temp_parent = node.parent\n",
    "        node.parent = temp_left_node\n",
    "        temp_left_node.parent = temp_parent\n",
    "\n",
    "        if temp_left_node.parent is not None and temp_left_node.parent.left_node == node:\n",
    "            temp_left_node.parent.left_node = temp_left_node\n",
    "\n",
    "        if temp_left_node.parent is not None and temp_left_node.parent.right_node == node:\n",
    "            temp_left_node.parent.right_node = temp_left_node\n",
    "\n",
    "        if node == self.root:\n",
    "            self.root = temp_left_node\n",
    "\n",
    "        node.height = max(self.calc_height(node.left_node), \n",
    "                          self.calc_height(node.right_node)) + 1\n",
    "\n",
    "        temp_left_node.height = max(self.calc_height(node.left_node), \n",
    "                             self.calc_height(node.right_node)) + 1\n",
    "\n",
    "    # O(1) running time complexity\n",
    "    def rotate_left(self, node):\n",
    "        print(\"Rotating to the left on node \", node.data)\n",
    "\n",
    "        temp_right_node = node.right_node\n",
    "        t = temp_right_node.left_node\n",
    "\n",
    "        temp_right_node.left_node = node\n",
    "        node.right_node = t\n",
    "\n",
    "        if t is not None:\n",
    "            t.parent = node\n",
    "\n",
    "        temp_parent = node.parent\n",
    "        node.parent = temp_right_node\n",
    "        temp_right_node.parent = temp_parent\n",
    "\n",
    "        if temp_right_node.parent is not None and temp_right_node.parent.left_node == node:\n",
    "            temp_right_node.parent.left_node = temp_right_node\n",
    "\n",
    "        if temp_right_node.parent is not None and temp_right_node.parent.right_node == node:\n",
    "            temp_right_node.parent.right_node = temp_right_node\n",
    "\n",
    "        if node == self.root:\n",
    "            self.root = temp_right_node\n",
    "\n",
    "        node.height = max(self.calc_height(node.left_node), \n",
    "                          self.calc_height(node.right_node)) + 1\n",
    "\n",
    "        temp_right_node.height = max(self.calc_height(node.left_node), \n",
    "                                     self.calc_height(node.right_node)) + 1\n",
    "\n",
    "\n",
    "    def calc_height(self, node):\n",
    "        # this is when the node is a Null\n",
    "        if node is None:\n",
    "            return - 1\n",
    "        \n",
    "        return node.height\n",
    "\n",
    "    def calculate_balance(self, node):\n",
    "\n",
    "        if node is None:\n",
    "            return 0\n",
    "\n",
    "        return self.calc_height(node.left_node) - self.calc_height(node.right_node)\n",
    "    \n",
    "    # Traverse in Order\n",
    "    def traverse_in(self):\n",
    "        if self.root is not None:\n",
    "            self.traverse_in_order(self.root)\n",
    "\n",
    "    def traverse_in_order(self, node):\n",
    "\n",
    "        if node.left_node:\n",
    "            self.traverse_in_order(node.left_node)\n",
    "\n",
    "        print(node.data)\n",
    "\n",
    "        if node.right_node:\n",
    "            self.traverse_in_order(node.right_node)\n",
    "\n",
    "    # Traverse pre Order\n",
    "    def traverse_pre(self):\n",
    "        if self.root is not None:\n",
    "            self.traverse_pre_order(self.root)\n",
    "\n",
    "    def traverse_pre_order(self, node):\n",
    "        \n",
    "        print(node.data)\n",
    "\n",
    "        if node.left_node:\n",
    "            self.traverse_pre_order(node.left_node)\n",
    "\n",
    "        if node.right_node:\n",
    "            self.traverse_pre_order(node.right_node)\n",
    "\n",
    "    # Traverse post Order\n",
    "    def traverse_post(self):\n",
    "        if self.root is not None:\n",
    "            self.traverse_post_order(self.root)\n",
    "\n",
    "    def traverse_post_order(self, node):\n",
    "\n",
    "        if node.left_node:\n",
    "            self.traverse_post_order(node.left_node)\n",
    "\n",
    "        if node.right_node:\n",
    "            self.traverse_post_order(node.right_node)\n",
    "        \n",
    "        print(node.data)"
   ]
  },
  {
   "cell_type": "code",
   "execution_count": 49,
   "metadata": {},
   "outputs": [],
   "source": [
    "avl = AVLTree()"
   ]
  },
  {
   "cell_type": "code",
   "execution_count": 50,
   "metadata": {},
   "outputs": [],
   "source": [
    "avl.insert(5)"
   ]
  },
  {
   "cell_type": "code",
   "execution_count": 51,
   "metadata": {},
   "outputs": [],
   "source": [
    "avl.insert(6)"
   ]
  },
  {
   "cell_type": "code",
   "execution_count": 52,
   "metadata": {},
   "outputs": [
    {
     "name": "stdout",
     "output_type": "stream",
     "text": [
      "Rotating to the left on node  5\n"
     ]
    }
   ],
   "source": [
    "avl.insert(7)"
   ]
  },
  {
   "cell_type": "code",
   "execution_count": 53,
   "metadata": {},
   "outputs": [
    {
     "data": {
      "text/plain": [
       "1"
      ]
     },
     "execution_count": 53,
     "metadata": {},
     "output_type": "execute_result"
    }
   ],
   "source": [
    "avl.root.height"
   ]
  },
  {
   "cell_type": "code",
   "execution_count": 54,
   "metadata": {},
   "outputs": [
    {
     "name": "stdout",
     "output_type": "stream",
     "text": [
      "5\n",
      "6\n",
      "7\n"
     ]
    }
   ],
   "source": [
    "avl.traverse_in()"
   ]
  },
  {
   "cell_type": "code",
   "execution_count": 59,
   "metadata": {},
   "outputs": [],
   "source": [
    "avl2 = AVLTree()"
   ]
  },
  {
   "cell_type": "code",
   "execution_count": 60,
   "metadata": {},
   "outputs": [],
   "source": [
    "avl2.insert(5)"
   ]
  },
  {
   "cell_type": "code",
   "execution_count": 61,
   "metadata": {},
   "outputs": [],
   "source": [
    "avl2.insert(8)"
   ]
  },
  {
   "cell_type": "code",
   "execution_count": 62,
   "metadata": {},
   "outputs": [
    {
     "name": "stdout",
     "output_type": "stream",
     "text": [
      "Rotating to the right on node  8\n",
      "Rotating to the left on node  5\n"
     ]
    }
   ],
   "source": [
    "avl2.insert(6)"
   ]
  },
  {
   "cell_type": "code",
   "execution_count": null,
   "metadata": {},
   "outputs": [],
   "source": []
  }
 ],
 "metadata": {
  "kernelspec": {
   "display_name": "Python 3.8.10 64-bit",
   "language": "python",
   "name": "python3"
  },
  "language_info": {
   "codemirror_mode": {
    "name": "ipython",
    "version": 3
   },
   "file_extension": ".py",
   "mimetype": "text/x-python",
   "name": "python",
   "nbconvert_exporter": "python",
   "pygments_lexer": "ipython3",
   "version": "3.8.10"
  },
  "orig_nbformat": 4,
  "vscode": {
   "interpreter": {
    "hash": "e7370f93d1d0cde622a1f8e1c04877d8463912d04d973331ad4851f04de6915a"
   }
  }
 },
 "nbformat": 4,
 "nbformat_minor": 2
}
