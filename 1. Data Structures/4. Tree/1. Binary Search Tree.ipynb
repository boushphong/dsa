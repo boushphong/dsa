{
 "cells": [
  {
   "cell_type": "code",
   "execution_count": 1,
   "metadata": {},
   "outputs": [],
   "source": [
    "class Node:\n",
    "\n",
    "    def __init__(self, data, parent):\n",
    "        self.data = data\n",
    "        self.parent = parent\n",
    "        self.right_node = None\n",
    "        self.left_node = None"
   ]
  },
  {
   "cell_type": "code",
   "execution_count": 13,
   "metadata": {},
   "outputs": [],
   "source": [
    "class BinarySearchTree:\n",
    "\n",
    "    def __init__(self):\n",
    "        self.root = None\n",
    "\n",
    "    def insert(self, data):\n",
    "        if self.root is None:\n",
    "            self.root = Node(data, None)\n",
    "        else:\n",
    "            self.insert_node(data, self.root)\n",
    "\n",
    "    def insert_node(self, data, node):\n",
    "        # we have to go to the left subtree\n",
    "        if data < node.data:\n",
    "            if node.left_node:\n",
    "                self.insert_node(data, node.left_node) # Recursive call\n",
    "            else:\n",
    "                node.left_node = Node(data, node) # Base\n",
    "        # we have to visit the right subtree\n",
    "        else:\n",
    "            if node.right_node:\n",
    "                self.insert_node(data, node.right_node) # Recursive call\n",
    "            else:\n",
    "                node.right_node = Node(data, node) # Base\n",
    "\n",
    "    def remove(self, data):\n",
    "        if self.root:\n",
    "            self.remove_node(data, self.root)\n",
    "\n",
    "    def remove_node(self, data, node):\n",
    "\n",
    "        if node is None:\n",
    "            return\n",
    "\n",
    "        if data < node.data:\n",
    "            self.remove_node(data, node.left_node)\n",
    "        elif data > node.data:\n",
    "            self.remove_node(data, node.right_node)\n",
    "        else:\n",
    "            if node.left_node is None and node.right_node is None:\n",
    "                print(\"Removing a leaf node...%d\" % node.data)\n",
    "\n",
    "                parent = node.parent\n",
    "\n",
    "                if parent is not None and parent.left_node == node:\n",
    "                    parent.left_node = None\n",
    "                if parent is not None and parent.right_node == node:\n",
    "                    parent.right_node = None\n",
    "\n",
    "                if parent is None:\n",
    "                    self.root = None\n",
    "\n",
    "                del node\n",
    "\n",
    "            elif node.left_node is None and node.right_node is not None:  # node !!!\n",
    "                print(\"Removing a node with single right child...\")\n",
    "\n",
    "                parent = node.parent\n",
    "\n",
    "                if parent is not None:\n",
    "                    if parent.left_node == node:\n",
    "                        parent.left_node = node.right_node\n",
    "                    if parent.right_node == node:\n",
    "                        parent.right_node = node.right_node\n",
    "                else:\n",
    "                    self.root = node.right_node\n",
    "\n",
    "                node.right_node.parent = parent\n",
    "                del node\n",
    "\n",
    "            elif node.right_node is None and node.left_node is not None:\n",
    "                print(\"Removing a node with single left child...\")\n",
    "\n",
    "                parent = node.parent\n",
    "\n",
    "                if parent is not None:\n",
    "                    if parent.left_node == node:\n",
    "                        parent.left_node = node.left_node\n",
    "                    if parent.right_node == node:\n",
    "                        parent.right_node = node.left_node\n",
    "                else:\n",
    "                    self.root = node.left_node\n",
    "\n",
    "                node.left_node.parent = parent\n",
    "                del node\n",
    "\n",
    "            else:\n",
    "                print('Removing node with two children....')\n",
    "\n",
    "                predecessor = self.get_predecessor(node.left_node) \n",
    "\n",
    "                # Swap data then remove the leaf node\n",
    "                temp = predecessor.data\n",
    "                predecessor.data = node.data\n",
    "                node.data = temp\n",
    "\n",
    "                self.remove_node(data, predecessor)\n",
    "\n",
    "    def get_predecessor(self, node):\n",
    "        if node.right_node:\n",
    "            return self.get_predecessor(node.right_node)\n",
    "\n",
    "        return node\n",
    "\n",
    "    # Get Maximum value\n",
    "    def get_max(self):\n",
    "        if self.root:\n",
    "            return self.get_max_value(self.root)\n",
    "\n",
    "    def get_max_value(self, node):\n",
    "\n",
    "        if node.right_node:\n",
    "            self.get_max_value(node.right_node)\n",
    "        \n",
    "        return node.data\n",
    "\n",
    "    # Get Minimum value\n",
    "    def get_min(self):\n",
    "        if self.root:\n",
    "            return self.get_min_value(self.root)\n",
    "\n",
    "    def get_min_value(self, node):\n",
    "\n",
    "        if node.right_node:\n",
    "            self.get_min_value(node.left_node)\n",
    "        \n",
    "        return node.data\n",
    "\n",
    "    # Traverse in Order\n",
    "    def traverse_in(self):\n",
    "        if self.root is not None:\n",
    "            self.traverse_in_order(self.root)\n",
    "\n",
    "    def traverse_in_order(self, node):\n",
    "\n",
    "        if node.left_node:\n",
    "            self.traverse_in_order(node.left_node)\n",
    "\n",
    "        print(node.data)\n",
    "\n",
    "        if node.right_node:\n",
    "            self.traverse_in_order(node.right_node)\n",
    "\n",
    "    # Traverse pre Order\n",
    "    def traverse_pre(self):\n",
    "        if self.root is not None:\n",
    "            self.traverse_pre_order(self.root)\n",
    "\n",
    "    def traverse_pre_order(self, node):\n",
    "        \n",
    "        print(node.data)\n",
    "\n",
    "        if node.left_node:\n",
    "            self.traverse_pre_order(node.left_node)\n",
    "\n",
    "        if node.right_node:\n",
    "            self.traverse_pre_order(node.right_node)\n",
    "\n",
    "    # Traverse post Order\n",
    "    def traverse_post(self):\n",
    "        if self.root is not None:\n",
    "            self.traverse_post_order(self.root)\n",
    "\n",
    "    def traverse_post_order(self, node):\n",
    "\n",
    "        if node.left_node:\n",
    "            self.traverse_post_order(node.left_node)\n",
    "\n",
    "        if node.right_node:\n",
    "            self.traverse_post_order(node.right_node)\n",
    "        \n",
    "        print(node.data)"
   ]
  },
  {
   "cell_type": "code",
   "execution_count": 19,
   "metadata": {},
   "outputs": [],
   "source": [
    "class TreeComparator:\n",
    "\n",
    "    def compare(self, node1, node2):\n",
    "\n",
    "        # check the base-case (so these node1 and node2 may be the nodes\n",
    "        # of a leaf node)\n",
    "        # node1 may be a None or node2 may be a None\n",
    "        if node1 is None or node2 is None:\n",
    "            return node1 == node2\n",
    "\n",
    "        # we have to check the values in the nodes\n",
    "        if node1.data is not node2.data:\n",
    "            return False\n",
    "\n",
    "        # check all the left and right subtrees (children) recursively\n",
    "        return self.compare(node1.left_node, node2.left_node) and \\\n",
    "            self.compare(node1.right_node, node2.right_node)"
   ]
  },
  {
   "cell_type": "code",
   "execution_count": 20,
   "metadata": {},
   "outputs": [
    {
     "name": "stdout",
     "output_type": "stream",
     "text": [
      "True\n"
     ]
    }
   ],
   "source": [
    "bst1 = BinarySearchTree()\n",
    "bst1.insert(3)\n",
    "bst1.insert(1)\n",
    "bst1.insert(4)\n",
    "bst1.insert(5)\n",
    "bst1.insert(-5)\n",
    "bst1.insert(0)\n",
    "bst1.insert(10)\n",
    "\n",
    "bst2 = BinarySearchTree()\n",
    "bst2.insert(3)\n",
    "bst2.insert(1)\n",
    "bst2.insert(4)\n",
    "bst2.insert(5)\n",
    "bst2.insert(-5)\n",
    "bst2.insert(0)\n",
    "bst2.insert(10)\n",
    "\n",
    "comparator = TreeComparator()\n",
    "print(comparator.compare(bst1.root, bst2.root))"
   ]
  },
  {
   "cell_type": "code",
   "execution_count": 21,
   "metadata": {},
   "outputs": [
    {
     "data": {
      "text/plain": [
       "True"
      ]
     },
     "execution_count": 21,
     "metadata": {},
     "output_type": "execute_result"
    }
   ],
   "source": [
    "bs3 = BinarySearchTree()\n",
    "bs4 = BinarySearchTree()\n",
    "\n",
    "TreeComparator().compare(bs3.root, bs4.root)"
   ]
  },
  {
   "cell_type": "code",
   "execution_count": 16,
   "metadata": {},
   "outputs": [
    {
     "name": "stdout",
     "output_type": "stream",
     "text": [
      "-5\n",
      "0\n",
      "1\n",
      "3\n",
      "4\n",
      "5\n",
      "10\n"
     ]
    }
   ],
   "source": [
    "bst1.traverse_in()"
   ]
  },
  {
   "cell_type": "code",
   "execution_count": 17,
   "metadata": {},
   "outputs": [
    {
     "name": "stdout",
     "output_type": "stream",
     "text": [
      "3\n",
      "1\n",
      "-5\n",
      "0\n",
      "4\n",
      "5\n",
      "10\n"
     ]
    }
   ],
   "source": [
    "bst1.traverse_pre()"
   ]
  },
  {
   "cell_type": "code",
   "execution_count": 18,
   "metadata": {},
   "outputs": [
    {
     "name": "stdout",
     "output_type": "stream",
     "text": [
      "0\n",
      "-5\n",
      "1\n",
      "10\n",
      "5\n",
      "4\n",
      "3\n"
     ]
    }
   ],
   "source": [
    "bst1.traverse_post()"
   ]
  },
  {
   "cell_type": "code",
   "execution_count": null,
   "metadata": {},
   "outputs": [],
   "source": []
  }
 ],
 "metadata": {
  "kernelspec": {
   "display_name": "Python 3.8.10 64-bit",
   "language": "python",
   "name": "python3"
  },
  "language_info": {
   "codemirror_mode": {
    "name": "ipython",
    "version": 3
   },
   "file_extension": ".py",
   "mimetype": "text/x-python",
   "name": "python",
   "nbconvert_exporter": "python",
   "pygments_lexer": "ipython3",
   "version": "3.8.10"
  },
  "orig_nbformat": 4,
  "vscode": {
   "interpreter": {
    "hash": "e7370f93d1d0cde622a1f8e1c04877d8463912d04d973331ad4851f04de6915a"
   }
  }
 },
 "nbformat": 4,
 "nbformat_minor": 2
}
