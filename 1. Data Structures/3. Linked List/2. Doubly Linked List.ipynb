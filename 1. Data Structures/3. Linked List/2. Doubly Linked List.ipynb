{
 "cells": [
  {
   "cell_type": "code",
   "execution_count": 1,
   "metadata": {
    "collapsed": true,
    "pycharm": {
     "name": "#%%\n"
    }
   },
   "outputs": [],
   "source": [
    "class Node:\n",
    "    def __init__(self, data):\n",
    "        self.data = data\n",
    "        self.next = None\n",
    "        self.previous = None"
   ]
  },
  {
   "cell_type": "code",
   "execution_count": null,
   "outputs": [],
   "source": [
    "class DoublyLinkedList:\n",
    "\n",
    "    def __init__(self):\n",
    "        self.head = None\n",
    "        self.tail = None\n",
    "\n",
    "    # this operation inserts items at the end of the linked list\n",
    "    # so we have to manipulate the tail node in O(1) running time\n",
    "    def insert(self, data):\n",
    "\n",
    "        new_node = Node(data)\n",
    "\n",
    "        # when the list is empty\n",
    "        if self.head is None:\n",
    "            self.head = new_node\n",
    "            self.tail = new_node\n",
    "        # there is at least 1 item in the data structure\n",
    "        # we keep inserting items at the end of the linked list\n",
    "        else:\n",
    "            new_node.previous = self.tail\n",
    "            self.tail.next = new_node\n",
    "            self.tail = new_node\n",
    "\n",
    "    # we can traverse a doubly linked list in both directions\n",
    "    def traverse_forward(self):\n",
    "\n",
    "        actual_node = self.head\n",
    "\n",
    "        while actual_node is not None:\n",
    "            print(\"%d\" % actual_node.data)\n",
    "            actual_node = actual_node.next\n",
    "\n",
    "    def traverse_backward(self):\n",
    "\n",
    "        actual_node = self.tail\n",
    "\n",
    "        while actual_node is not None:\n",
    "            print(\"%d\" % actual_node.data)\n",
    "            actual_node = actual_node.previous"
   ],
   "metadata": {
    "collapsed": false,
    "pycharm": {
     "name": "#%%\n"
    }
   }
  }
 ],
 "metadata": {
  "kernelspec": {
   "display_name": "Python 3",
   "language": "python",
   "name": "python3"
  },
  "language_info": {
   "codemirror_mode": {
    "name": "ipython",
    "version": 2
   },
   "file_extension": ".py",
   "mimetype": "text/x-python",
   "name": "python",
   "nbconvert_exporter": "python",
   "pygments_lexer": "ipython2",
   "version": "2.7.6"
  }
 },
 "nbformat": 4,
 "nbformat_minor": 0
}
