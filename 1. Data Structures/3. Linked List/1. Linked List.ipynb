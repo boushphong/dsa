{
 "cells": [
  {
   "cell_type": "code",
   "execution_count": 2,
   "metadata": {
    "collapsed": false,
    "pycharm": {
     "name": "#%%\n"
    }
   },
   "outputs": [],
   "source": [
    "class Node:\n",
    "\n",
    "    def __init__(self, data):\n",
    "        self.data = data\n",
    "        self.next_node = None\n",
    "\n",
    "    def __repr__(self):\n",
    "        return str(self.data)"
   ]
  },
  {
   "cell_type": "code",
   "execution_count": 5,
   "metadata": {
    "collapsed": false,
    "pycharm": {
     "name": "#%%\n"
    }
   },
   "outputs": [],
   "source": [
    "class LinkedList:\n",
    "\n",
    "    def __init__(self):\n",
    "        # this is the first node of the linked list\n",
    "        # WE CAN ACCESS THIS NODE EXCLUSIVELY !!!\n",
    "        self.head = None\n",
    "        self.num_of_nodes = 0\n",
    "\n",
    "    # O(1) constant running time\n",
    "    def insert_start(self, data):\n",
    "        self.num_of_nodes += 1\n",
    "        new_node = Node(data)\n",
    "\n",
    "        # the head is NULL (so the data structure is empty)\n",
    "        if self.head is None:\n",
    "            self.head = new_node\n",
    "        # so this is when the linked list is not empty\n",
    "        else:\n",
    "            # we have to update the references\n",
    "            new_node.next_node = self.head\n",
    "            self.head = new_node\n",
    "\n",
    "    # O(N)\n",
    "    def insert_end(self, data):\n",
    "        self.num_of_nodes += 1\n",
    "        new_node = Node(data)\n",
    "\n",
    "        # check if the linked list is empty\n",
    "        if self.head is None:\n",
    "            self.head = new_node\n",
    "        else:\n",
    "            # this is when the linked list is not empty\n",
    "            actual_node = self.head\n",
    "\n",
    "            # this is why it has O(N) linear running time\n",
    "            while actual_node.next_node is not None:\n",
    "                actual_node = actual_node.next_node\n",
    "\n",
    "            # actual_node is the last node: so we insert the new_node\n",
    "            # right after the actual_node\n",
    "            actual_node.next_node = new_node\n",
    "\n",
    "    # O(1) constant running time\n",
    "    def size_of_list(self):\n",
    "        return self.num_of_nodes\n",
    "\n",
    "    # O(N) linear running time\n",
    "    def traverse(self):\n",
    "\n",
    "        actual_node = self.head\n",
    "\n",
    "        while actual_node is not None:\n",
    "            print(actual_node)\n",
    "            actual_node = actual_node.next_node\n",
    "\n",
    "    # O(N) linear running time complexity\n",
    "    def get_middle_node(self):\n",
    "\n",
    "        fast_pointer = self.head\n",
    "        slow_pointer = self.head\n",
    "\n",
    "        while fast_pointer.next_node and fast_pointer.next_node.next_node:\n",
    "            fast_pointer = fast_pointer.next_node.next_node\n",
    "            slow_pointer = slow_pointer.next_node\n",
    "\n",
    "        return slow_pointer\n",
    "\n",
    "    # O(N) linear running time\n",
    "    def remove(self, data):\n",
    "\n",
    "        # the list is empty\n",
    "        if self.head is None:\n",
    "            return\n",
    "\n",
    "        actual_node = self.head\n",
    "        # we have to track the prev node for future pointer updates\n",
    "        # this is why doubly linked lists are better - we can get the prev\n",
    "        # node (here with linked lists it is impossible)\n",
    "        prev_node = None\n",
    "\n",
    "        # search for the item we want to remove (data)\n",
    "        # If the data you want to search is in the first Node. Then this while loop won't run and prev Node will stay None\n",
    "        while actual_node is not None and actual_node.data != data:\n",
    "            prev_node = actual_node\n",
    "            actual_node = actual_node.next_node\n",
    "\n",
    "        # search miss\n",
    "        if actual_node is None:\n",
    "            return\n",
    "\n",
    "        # update the references (so we have the data we want to remove)\n",
    "        # the head node is the one we want to remove\n",
    "        if prev_node is None:\n",
    "            self.head = actual_node.next_node\n",
    "        else:\n",
    "            # remove an internal node by updating the pointers\n",
    "            # NO NEED TO del THE NODE BECAUSE THE GARBAGE COLLECTOR WILL DO THAT\n",
    "            prev_node.next_node = actual_node.next_node\n",
    "\n",
    "    # O(N) running time complexity without extra memory\n",
    "    def reverse(self):\n",
    "        current_node = self.head\n",
    "        prev_node = None\n",
    "        next_node = None\n",
    "\n",
    "        while current_node is not None:\n",
    "            next_node = current_node.next_node\n",
    "            current_node.next_node = prev_node\n",
    "            prev_node = current_node\n",
    "            current_node = next_node\n",
    "\n",
    "        self.head = prev_node\n",
    "\n",
    "        # while current_node.next_node is not None:\n",
    "        #     next_node = current_node.next_node\n",
    "        #     current_node.next_node = prev_node\n",
    "        #     prev_node = current_node\n",
    "        #     current_node = next_node\n",
    "        #     if current_node.next_node is None:\n",
    "        #         current_node.next_node = prev_node\n",
    "        #         self.head = current_node\n",
    "        #         break"
   ]
  },
  {
   "cell_type": "code",
   "execution_count": 6,
   "metadata": {
    "collapsed": false,
    "pycharm": {
     "name": "#%%\n"
    }
   },
   "outputs": [
    {
     "name": "stdout",
     "output_type": "stream",
     "text": [
      "1000\n",
      "100\n",
      "10\n",
      "Adam\n",
      "7.5\n",
      "-------\n",
      "100\n",
      "10\n",
      "Adam\n",
      "7.5\n"
     ]
    }
   ],
   "source": [
    "if __name__ == '__main__':\n",
    "    linked_list = LinkedList()\n",
    "    linked_list.insert_end(10)\n",
    "    linked_list.insert_start(100)\n",
    "    linked_list.insert_start(1000)\n",
    "    linked_list.insert_end('Adam')\n",
    "    linked_list.insert_end(7.5)\n",
    "    linked_list.traverse()\n",
    "    print('-------')\n",
    "    linked_list.remove(1000)\n",
    "    linked_list.traverse()"
   ]
  },
  {
   "cell_type": "code",
   "execution_count": 7,
   "metadata": {
    "collapsed": false,
    "pycharm": {
     "name": "#%%\n"
    }
   },
   "outputs": [
    {
     "name": "stdout",
     "output_type": "stream",
     "text": [
      "100\n",
      "10\n",
      "Adam\n",
      "7.5\n"
     ]
    }
   ],
   "source": [
    "linked_list.traverse()"
   ]
  },
  {
   "cell_type": "code",
   "execution_count": 8,
   "metadata": {
    "collapsed": false,
    "pycharm": {
     "name": "#%%\n"
    }
   },
   "outputs": [],
   "source": [
    "linked_list.reverse()"
   ]
  },
  {
   "cell_type": "code",
   "execution_count": 9,
   "metadata": {
    "collapsed": false,
    "pycharm": {
     "name": "#%%\n"
    }
   },
   "outputs": [
    {
     "name": "stdout",
     "output_type": "stream",
     "text": [
      "7.5\n",
      "Adam\n",
      "10\n",
      "100\n"
     ]
    }
   ],
   "source": [
    "linked_list.traverse()"
   ]
  },
  {
   "cell_type": "code",
   "execution_count": null,
   "metadata": {
    "collapsed": false,
    "pycharm": {
     "name": "#%%\n"
    }
   },
   "outputs": [],
   "source": []
  }
 ],
 "metadata": {
  "kernelspec": {
   "display_name": "Python 3",
   "language": "python",
   "name": "python3"
  },
  "language_info": {
   "codemirror_mode": {
    "name": "ipython",
    "version": 2
   },
   "file_extension": ".py",
   "mimetype": "text/x-python",
   "name": "python",
   "nbconvert_exporter": "python",
   "pygments_lexer": "ipython2",
   "version": "2.7.6"
  }
 },
 "nbformat": 4,
 "nbformat_minor": 0
}
