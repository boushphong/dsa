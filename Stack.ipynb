{
 "cells": [
  {
   "cell_type": "code",
   "execution_count": 1,
   "outputs": [],
   "source": [
    "class Stack:\n",
    "\n",
    "    def __init__(self):\n",
    "        self.stack = []\n",
    "\n",
    "    # O(1) running time\n",
    "    def is_empty(self):\n",
    "        return self.stack == []\n",
    "\n",
    "    # O(1) running time\n",
    "    def push(self, data):\n",
    "        self.stack.append(data)\n",
    "\n",
    "    # O(1) because we manipulate the last item\n",
    "    def pop(self):\n",
    "\n",
    "        if self.size_stack < 1:\n",
    "            return None\n",
    "\n",
    "        data = self.stack[-1]\n",
    "        del self.stack[-1]\n",
    "        return data\n",
    "\n",
    "    # O(1) constant running time\n",
    "    def peek(self):\n",
    "        return self.stack[-1]\n",
    "\n",
    "    # O(1)\n",
    "    def size_stack(self):\n",
    "        return len(self.stack)"
   ],
   "metadata": {
    "collapsed": false,
    "pycharm": {
     "name": "#%%\n"
    }
   }
  },
  {
   "cell_type": "code",
   "execution_count": 2,
   "outputs": [],
   "source": [
    "class Queue:\n",
    "\n",
    "    def __init__(self):\n",
    "        self.queue = []\n",
    "\n",
    "    # O(1) running time\n",
    "    def is_empty(self):\n",
    "        return self.queue == []\n",
    "\n",
    "    # O(1) running time\n",
    "    def enqueue(self, data):\n",
    "        self.queue.append(data)\n",
    "\n",
    "    # O(N) linear running time but we could use doubly linked list\n",
    "    # to achieve O(1) for all operations\n",
    "    def dequeue(self):\n",
    "        data = self.queue[0]\n",
    "        del self.queue[0]\n",
    "        return data\n",
    "\n",
    "    # O(1) constant running time\n",
    "    def peek(self):\n",
    "        return self.queue[0]\n",
    "\n",
    "    # O(1)\n",
    "    def size_queue(self):\n",
    "        return len(self.queue)"
   ],
   "metadata": {
    "collapsed": false,
    "pycharm": {
     "name": "#%%\n"
    }
   }
  },
  {
   "cell_type": "code",
   "execution_count": null,
   "outputs": [],
   "source": [],
   "metadata": {
    "collapsed": false,
    "pycharm": {
     "name": "#%%\n"
    }
   }
  }
 ],
 "metadata": {
  "kernelspec": {
   "display_name": "Python 3",
   "language": "python",
   "name": "python3"
  },
  "language_info": {
   "codemirror_mode": {
    "name": "ipython",
    "version": 2
   },
   "file_extension": ".py",
   "mimetype": "text/x-python",
   "name": "python",
   "nbconvert_exporter": "python",
   "pygments_lexer": "ipython2",
   "version": "2.7.6"
  }
 },
 "nbformat": 4,
 "nbformat_minor": 0
}